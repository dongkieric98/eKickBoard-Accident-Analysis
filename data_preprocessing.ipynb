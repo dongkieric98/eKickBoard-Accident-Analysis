{
 "cells": [
  {
   "cell_type": "markdown",
   "id": "93b9404e-8c84-4b8e-ad9e-4e1b74c6290b",
   "metadata": {},
   "source": [
    "# __Chapter 01. 라이브러리 호출__"
   ]
  },
  {
   "cell_type": "code",
   "execution_count": 848,
   "id": "b5e06514-d850-44e8-bddf-25ab23df8d2a",
   "metadata": {},
   "outputs": [],
   "source": [
    "# 라이브러리 호출\n",
    "import numpy as np\n",
    "import pandas as pd\n",
    "import seaborn as sns\n",
    "import matplotlib.pyplot as plt"
   ]
  },
  {
   "cell_type": "code",
   "execution_count": 650,
   "id": "d9b458b6-4772-4e2e-b36f-e7327c351212",
   "metadata": {},
   "outputs": [],
   "source": [
    "# 한글 깨짐 방\n",
    "plt.rcParams['font.family'] = 'Malgun Gothic'"
   ]
  },
  {
   "cell_type": "markdown",
   "id": "6d63938a-44a7-40f6-bd58-cc41118512d6",
   "metadata": {},
   "source": [
    "----------"
   ]
  },
  {
   "cell_type": "markdown",
   "id": "791f5cbd-76eb-4736-a9e9-d5fc1220e734",
   "metadata": {},
   "source": [
    "# __Chapter 02. 데이터 불러오기__"
   ]
  },
  {
   "cell_type": "code",
   "execution_count": 653,
   "id": "e9d2fb62-0498-4af8-8560-81a059eb37a7",
   "metadata": {},
   "outputs": [],
   "source": [
    "accident2012 = pd.read_csv('data/차종별 월별 교통사고(2012).csv', encoding='cp949')     # 2012년 차종별 월별 사고 건수 데이터\n",
    "accident2013 = pd.read_csv('data/차종별 월별 교통사고(2013).csv', encoding='cp949')     # 2013년 차종별 월별 사고 건수 데이터\n",
    "accident2014 = pd.read_csv('data/차종별 월별 교통사고(2014).csv', encoding='cp949')     # 2014년 차종별 월별 사고 건수 데이터\n",
    "accident2015 = pd.read_csv('data/차종별 월별 교통사고(2015).csv', encoding='cp949')     # 2015년 차종별 월별 사고 건수 데이터\n",
    "accident2016 = pd.read_csv('data/차종별 월별 교통사고(2016).csv', encoding='cp949')     # 2016년 차종별 월별 사고 건수 데이터\n",
    "accident2017 = pd.read_csv('data/차종별 월별 교통사고(2017).csv', encoding='cp949')     # 2017년 차종별 월별 사고 건수 데이터\n",
    "accident2018 = pd.read_csv('data/차종별 월별 교통사고(2018).csv', encoding='cp949')     # 2018년 차종별 월별 사고 건수 데이터\n",
    "accident2019 = pd.read_csv('data/차종별 월별 교통사고(2019).csv', encoding='cp949')     # 2019년 차종별 월별 사고 건수 데이터\n",
    "accident2020 = pd.read_csv('data/차종별 월별 교통사고(2020).csv', encoding='cp949')     # 2020년 차종별 월별 사고 건수 데이터\n",
    "accident2021 = pd.read_csv('data/차종별 월별 교통사고(2021).csv', encoding='cp949')     # 2021년 차종별 월별 사고 건수 데이터\n",
    "accident2022 = pd.read_csv('data/차종별 월별 교통사고(2022).csv', encoding='cp949')     # 2022년 차종별 월별 사고 건수 데이터\n",
    "accident2023 = pd.read_csv('data/차종별 월별 교통사고(2023).csv', encoding='cp949')     # 2023년 차종별 월별 사고 건수 데이터"
   ]
  },
  {
   "cell_type": "markdown",
   "id": "1278f994-75d4-46e2-9c57-b05962b2fb18",
   "metadata": {},
   "source": [
    "--------"
   ]
  },
  {
   "cell_type": "markdown",
   "id": "e6c84dd6-f500-498f-9db0-e4c35cf2a9fe",
   "metadata": {},
   "source": [
    "# __Chapter 03. 데이터 확인(통합전)__"
   ]
  },
  {
   "cell_type": "markdown",
   "id": "3571fee4-5fa5-4e69-8520-f6a60d865f0a",
   "metadata": {},
   "source": [
    "## __1. 각 데이터 Column  확인__"
   ]
  },
  {
   "cell_type": "markdown",
   "id": "018e5bba-8478-41d1-b02e-dfd71b3a1161",
   "metadata": {},
   "source": [
    "- 데이터를 합치기 위해 각 데이터들의 Column을 확인하였으나 시간이 지남에 따라 Column명이 변경됨을 확인할 수 있다.\n",
    "- 하지만 동일한 Value를 제공하는 Column이기에 해당 Column들을 동일하게 수정해줘야 한다."
   ]
  },
  {
   "cell_type": "code",
   "execution_count": 658,
   "id": "f86aa516-93b4-4338-8330-21a8081f9c2b",
   "metadata": {},
   "outputs": [
    {
     "name": "stdout",
     "output_type": "stream",
     "text": [
      "accident2012 : Index(['가해자차종_대분류', '가해자차종', '월', '사고건수', '사망자수', '중상자수', '경상자수', '부상신고자수'], dtype='object')\n",
      "accident2013 : Index(['가해당사자종별', '발생월', '사고건수', '사망자수', '중상자수', '경상자수', '부상신고자수'], dtype='object')\n",
      "accident2014 : Index(['가해당사자종별', '발생월', '사고건수', '사망자수', '중상자수', '경상자수', '부상신고자수'], dtype='object')\n",
      "accident2015 : Index(['가해당사자종별', '발생월', '사고건수', '사망자수', '중상자수', '경상자수', '부상신고자수'], dtype='object')\n",
      "accident2016 : Index(['가해당사자종별', '발생월', '사고건수', '사망자수', '중상자수', '경상자수', '부상신고자수'], dtype='object')\n",
      "accident2017 : Index(['가해당사자종별', '발생월', '사고건수', '사망자수', '중상자수', '경상자수', '부상신고자수'], dtype='object')\n",
      "accident2018 : Index(['가해당사자종별', '발생월', '사고건수', '사망자수', '중상자수', '경상자수', '부상신고자수'], dtype='object')\n",
      "accident2019 : Index(['가해당사자종별', '발생월', '사고건수', '사망자수', '중상자수', '경상자수', '부상신고자수'], dtype='object')\n",
      "accident2020 : Index(['가해자차종', '발생월', '사고건수', '사망자수', '중상자수', '경상자수', '부상신고자수'], dtype='object')\n",
      "accident2021 : Index(['가해자차종', '발생월', '사고건수', '사망자수', '중상자수', '경상자수', '부상신고자수'], dtype='object')\n",
      "accident2022 : Index(['가해자차종', '발생월', '사고건수', '사망자수', '중상자수', '경상자수', '부상신고자수'], dtype='object')\n",
      "accident2023 : Index(['가해자차종', '발생월', '사고건수', '사망자수', '중상자수', '경상자수', '부상신고자수'], dtype='object')\n"
     ]
    }
   ],
   "source": [
    "# 변경전 각 데이터 Column값\n",
    "for i in range(2012,2024):\n",
    "    df_name = f'accident{i}'\n",
    "    print(df_name, ':', globals()[df_name].columns)"
   ]
  },
  {
   "cell_type": "markdown",
   "id": "141db7cc-266f-4d03-abe7-32b4b2e87bea",
   "metadata": {},
   "source": [
    "## __2. 각 데이터의 범주형 Column값들 확인하기__"
   ]
  },
  {
   "cell_type": "markdown",
   "id": "cd9ad475-ba64-4d1e-bcff-95a274076695",
   "metadata": {},
   "source": [
    "### __2-1. 가해자차종 Column 값 확인__"
   ]
  },
  {
   "cell_type": "markdown",
   "id": "11d6a21e-7ebd-46ef-905f-323886ae8364",
   "metadata": {},
   "source": [
    "|연도|컬럼값|\n",
    "|:---:|---|\n",
    "|2012 ~ 2016|'승용차' '승합차' '화물차' '특수차' '이륜차' '원동기장치자전거' '자전거' '건설기계' '농기계' __'불명'__|\n",
    "|2017 ~ 2021|'승용차' '승합차' '화물차' '특수차' '이륜차' '원동기장치자전거' '자전거' '건설기계' '농기계'  __'사륜오토바이(ATV)'__ __'개인형이동수단(PM)'__   __'기타' '불명'__|\n",
    "|2022 ~ 2023|'승용차' '승합차' '화물차' '특수차' '이륜차' '원동기장치자전거' '자전거' '건설기계' '농기계' __'사륜오토바이(ATV)'__ __'개인형이동장치(PM)'__  __'기타/불명'__|"
   ]
  },
  {
   "cell_type": "markdown",
   "id": "5e262253-1ca8-4828-a1a5-f080cf27da26",
   "metadata": {},
   "source": [
    "- [2012년 ~ 2016], [2017년 ~ 2021년], [2022년 ~ 2023년] 데이터의 가해자차종 유형은 모두 동일하다\n",
    "- '기타', '불명' 데이터는 모두 '기타' 유형으로 합치기로 결정\n",
    "- 2017년의 데이터부터는 '가해자차종' 유형에서 '사륜오토바이(ATV)', '개인형이동수단(PM)'이 추가되었다.\n",
    "- 개인형이동수단(PM)에는 __전동킥보드__, 전동이륜평행차, 전기 자전거 (2인 가능) 등이 존재한다"
   ]
  },
  {
   "cell_type": "markdown",
   "id": "80e4c02d-0ac2-4ae6-a472-7c1b2ffbb1c9",
   "metadata": {},
   "source": [
    "### __2-2. 발생월 Column값 확인__"
   ]
  },
  {
   "cell_type": "markdown",
   "id": "5005c9de-5306-4050-8cb7-acdfc332f6ca",
   "metadata": {},
   "source": [
    "- 발생월은 모두 1~12월까지 존재한다."
   ]
  },
  {
   "cell_type": "code",
   "execution_count": 665,
   "id": "3b4139b8-8e0f-4a24-a2a8-954b8bf4afd4",
   "metadata": {},
   "outputs": [
    {
     "name": "stdout",
     "output_type": "stream",
     "text": [
      "accident2012 : [ 1  2  3  4  5  6  7  8  9 10 11 12]\n",
      "accident2013 : [ 1  2  3  4  5  6  7  8  9 10 11 12]\n",
      "accident2014 : [ 1  2  3  4  5  6  7  8  9 10 11 12]\n",
      "accident2015 : [ 1  2  3  4  5  6  7  8  9 10 11 12]\n",
      "accident2016 : [ 1  2  3  4  5  6  7  8  9 10 11 12]\n",
      "accident2017 : [ 1  2  3  4  5  6  7  8  9 10 11 12]\n",
      "accident2018 : [ 1  2  3  4  5  6  7  8  9 10 11 12]\n",
      "accident2019 : [ 1  2  3  4  5  6  7  8  9 10 11 12]\n",
      "accident2020 : [ 1  2  3  4  5  6  7  8  9 10 11 12]\n",
      "accident2021 : [ 1  2  3  4  5  6  7  8  9 10 11 12]\n",
      "accident2022 : [ 1  2  3  4  5  6  7  8  9 10 11 12]\n",
      "accident2023 : [ 1  2  3  4  5  6  7  8  9 10 11 12]\n"
     ]
    }
   ],
   "source": [
    "print('accident2012 :', accident2012['월'].unique())\n",
    "\n",
    "for i in range(2013,2024):\n",
    "    df_name = f'accident{i}'\n",
    "    print(df_name, ':', globals()[df_name]['발생월'].unique())"
   ]
  },
  {
   "cell_type": "markdown",
   "id": "edacc852-3b8e-4ad9-af30-78e0daf76ba0",
   "metadata": {},
   "source": [
    "## __3. 각 데이터의 shape 확인__"
   ]
  },
  {
   "cell_type": "markdown",
   "id": "1baaac49-31f0-4340-96c4-fdf0c3a7f476",
   "metadata": {},
   "source": [
    "- 데이터가 가해자차종별 월별 데이터로 구성되어 있어 가해자차종의 갯수가 동일하면 형태가 동일해야한다.\n",
    "- 하지만 2012년과 2017년도는 Column이 다르다.\n",
    "- 이유를 찾아보니 2012년의 경우 가해차종을 차종세부(소형,중형,대형)별로 나누어놨기에 데이터가 더 나뉘었다.\n",
    "- 따라서 이를 가해차종별, 월별로 Groupby가 필요하다.\n",
    "- 2017년의 경우 개인형이동수단(PM)이 2월부터 시작하여 1월 데이터 1개분이 존재하지 않아 데이터수가 한개 누락되어있다."
   ]
  },
  {
   "cell_type": "code",
   "execution_count": 668,
   "id": "4821c313-8789-4ac1-b123-194109f7d532",
   "metadata": {},
   "outputs": [
    {
     "name": "stdout",
     "output_type": "stream",
     "text": [
      "(298, 8)\n",
      "(120, 7)\n",
      "(120, 7)\n",
      "(120, 7)\n",
      "(120, 7)\n",
      "(155, 7)\n",
      "(156, 7)\n",
      "(156, 7)\n",
      "(156, 7)\n",
      "(156, 7)\n",
      "(144, 7)\n",
      "(144, 7)\n"
     ]
    }
   ],
   "source": [
    "for year in range(2012,2024):\n",
    "    df_name = f\"accident{year}\"\n",
    "    print(globals()[df_name].shape)"
   ]
  },
  {
   "cell_type": "markdown",
   "id": "69ea14be-4a94-49c9-a61a-2963f987b9b9",
   "metadata": {},
   "source": [
    "-------\n"
   ]
  },
  {
   "cell_type": "markdown",
   "id": "96518594-6572-4a1a-a063-da08b48a1457",
   "metadata": {},
   "source": [
    "# __Chapter 04. 데이터 전처리(통합전)__"
   ]
  },
  {
   "cell_type": "markdown",
   "id": "b7ebef04-a522-4cca-b1d8-10474fa6e43c",
   "metadata": {},
   "source": [
    "## __1. Column 통일하기__"
   ]
  },
  {
   "cell_type": "markdown",
   "id": "a189985b-fbe5-4148-bfcd-3b670e7a10ef",
   "metadata": {},
   "source": [
    "- 가해자차종과 관련된 컬럼은 모두 동일한 유형의 값을 가지는 Column이지만 Column명이 다르다.\n",
    "- 따라서 해당 컬럼을 '가해자차종'이라는 이름으로 통일하여 일관성을 유지해야 한다.\n",
    "- 2012년도 데이터에는 다른 데이터에는 없는 유형인 '가해자차종'이라는 데이터가 있기에 이를 삭제한다.\n",
    "- 2012년도 데이터에만 '발생월'이 '월'로 되어 있기에 해당 Column값을 '발생월'로 통일하여준다."
   ]
  },
  {
   "cell_type": "code",
   "execution_count": 673,
   "id": "da2300ca-ab32-4cde-9dee-85b43e8f0ee8",
   "metadata": {},
   "outputs": [],
   "source": [
    "# 2012년 데이터 가해자차종 Column 삭제\n",
    "accident2012.drop('가해자차종',axis=1, inplace=True)\n",
    "\n",
    "# 2012년 데이터 Column 수정\n",
    "accident2012.rename(columns={'가해자차종_대분류':'가해자차종'}, inplace=True)\n",
    "\n",
    "# 2012년 '월' Column을 '발생월'로 수정\n",
    "accident2012.rename(columns={'월':'발생월'}, inplace=True)\n",
    "\n",
    "# 2013 ~ 2019년 데이터 Column 수정\n",
    "accident2013.rename(columns={'가해당사자종별':'가해자차종'}, inplace=True)\n",
    "accident2014.rename(columns={'가해당사자종별':'가해자차종'}, inplace=True)\n",
    "accident2015.rename(columns={'가해당사자종별':'가해자차종'}, inplace=True)\n",
    "accident2016.rename(columns={'가해당사자종별':'가해자차종'}, inplace=True)\n",
    "accident2017.rename(columns={'가해당사자종별':'가해자차종'}, inplace=True)\n",
    "accident2018.rename(columns={'가해당사자종별':'가해자차종'}, inplace=True)\n",
    "accident2019.rename(columns={'가해당사자종별':'가해자차종'}, inplace=True)"
   ]
  },
  {
   "cell_type": "markdown",
   "id": "96b3c37e-281e-4002-bd04-92afed1459cd",
   "metadata": {},
   "source": [
    "## __2. 변경 후 데이터들의 Column값들이 통일되었는지 확인__"
   ]
  },
  {
   "cell_type": "markdown",
   "id": "de506d0f-5171-4c84-9347-1262f9e713e9",
   "metadata": {},
   "source": [
    "- 모든 데이터들의 Column이 통일되었음을 확인할 수 있다."
   ]
  },
  {
   "cell_type": "code",
   "execution_count": 676,
   "id": "2c4a19e2-bb7f-4fde-8de8-613a35037b28",
   "metadata": {},
   "outputs": [
    {
     "name": "stdout",
     "output_type": "stream",
     "text": [
      "accident2012 : Index(['가해자차종', '발생월', '사고건수', '사망자수', '중상자수', '경상자수', '부상신고자수'], dtype='object')\n",
      "accident2013 : Index(['가해자차종', '발생월', '사고건수', '사망자수', '중상자수', '경상자수', '부상신고자수'], dtype='object')\n",
      "accident2014 : Index(['가해자차종', '발생월', '사고건수', '사망자수', '중상자수', '경상자수', '부상신고자수'], dtype='object')\n",
      "accident2015 : Index(['가해자차종', '발생월', '사고건수', '사망자수', '중상자수', '경상자수', '부상신고자수'], dtype='object')\n",
      "accident2016 : Index(['가해자차종', '발생월', '사고건수', '사망자수', '중상자수', '경상자수', '부상신고자수'], dtype='object')\n",
      "accident2017 : Index(['가해자차종', '발생월', '사고건수', '사망자수', '중상자수', '경상자수', '부상신고자수'], dtype='object')\n",
      "accident2018 : Index(['가해자차종', '발생월', '사고건수', '사망자수', '중상자수', '경상자수', '부상신고자수'], dtype='object')\n",
      "accident2019 : Index(['가해자차종', '발생월', '사고건수', '사망자수', '중상자수', '경상자수', '부상신고자수'], dtype='object')\n",
      "accident2020 : Index(['가해자차종', '발생월', '사고건수', '사망자수', '중상자수', '경상자수', '부상신고자수'], dtype='object')\n",
      "accident2021 : Index(['가해자차종', '발생월', '사고건수', '사망자수', '중상자수', '경상자수', '부상신고자수'], dtype='object')\n",
      "accident2022 : Index(['가해자차종', '발생월', '사고건수', '사망자수', '중상자수', '경상자수', '부상신고자수'], dtype='object')\n",
      "accident2023 : Index(['가해자차종', '발생월', '사고건수', '사망자수', '중상자수', '경상자수', '부상신고자수'], dtype='object')\n"
     ]
    }
   ],
   "source": [
    "# 변경후 각 데이터 Column값\n",
    "for i in range(2012,2024):\n",
    "    df_name = f'accident{i}'\n",
    "    print(df_name, ':', globals()[df_name].columns)"
   ]
  },
  {
   "cell_type": "markdown",
   "id": "be8d45c0-2de8-4506-b4f7-16c7a0b1c1aa",
   "metadata": {},
   "source": [
    "## __3. 2012년 가해자차종 데이터 묶기__"
   ]
  },
  {
   "cell_type": "markdown",
   "id": "1a140755-242a-4656-938c-270548254600",
   "metadata": {},
   "source": [
    "- 2012년 데이터를 __가해자차종별 발생월별로 Groupby__ 하여 데이터의 형식을 유지하기"
   ]
  },
  {
   "cell_type": "code",
   "execution_count": 679,
   "id": "9e6a2cb9-58ba-439f-87d2-6c7159025d16",
   "metadata": {},
   "outputs": [
    {
     "data": {
      "text/html": [
       "<div>\n",
       "<style scoped>\n",
       "    .dataframe tbody tr th:only-of-type {\n",
       "        vertical-align: middle;\n",
       "    }\n",
       "\n",
       "    .dataframe tbody tr th {\n",
       "        vertical-align: top;\n",
       "    }\n",
       "\n",
       "    .dataframe thead th {\n",
       "        text-align: right;\n",
       "    }\n",
       "</style>\n",
       "<table border=\"1\" class=\"dataframe\">\n",
       "  <thead>\n",
       "    <tr style=\"text-align: right;\">\n",
       "      <th></th>\n",
       "      <th>index</th>\n",
       "      <th>가해자차종</th>\n",
       "      <th>발생월</th>\n",
       "      <th>사고건수</th>\n",
       "      <th>사망자수</th>\n",
       "      <th>중상자수</th>\n",
       "      <th>경상자수</th>\n",
       "      <th>부상신고자수</th>\n",
       "    </tr>\n",
       "  </thead>\n",
       "  <tbody>\n",
       "    <tr>\n",
       "      <th>0</th>\n",
       "      <td>0</td>\n",
       "      <td>건설기계</td>\n",
       "      <td>1</td>\n",
       "      <td>97</td>\n",
       "      <td>8</td>\n",
       "      <td>59</td>\n",
       "      <td>113</td>\n",
       "      <td>1</td>\n",
       "    </tr>\n",
       "    <tr>\n",
       "      <th>1</th>\n",
       "      <td>1</td>\n",
       "      <td>건설기계</td>\n",
       "      <td>2</td>\n",
       "      <td>103</td>\n",
       "      <td>8</td>\n",
       "      <td>65</td>\n",
       "      <td>84</td>\n",
       "      <td>2</td>\n",
       "    </tr>\n",
       "    <tr>\n",
       "      <th>2</th>\n",
       "      <td>2</td>\n",
       "      <td>건설기계</td>\n",
       "      <td>3</td>\n",
       "      <td>125</td>\n",
       "      <td>5</td>\n",
       "      <td>76</td>\n",
       "      <td>129</td>\n",
       "      <td>4</td>\n",
       "    </tr>\n",
       "  </tbody>\n",
       "</table>\n",
       "</div>"
      ],
      "text/plain": [
       "   index 가해자차종  발생월  사고건수  사망자수  중상자수  경상자수  부상신고자수\n",
       "0      0  건설기계    1    97     8    59   113       1\n",
       "1      1  건설기계    2   103     8    65    84       2\n",
       "2      2  건설기계    3   125     5    76   129       4"
      ]
     },
     "execution_count": 679,
     "metadata": {},
     "output_type": "execute_result"
    }
   ],
   "source": [
    "accident2012 = accident2012.groupby(['가해자차종', '발생월']).sum().reset_index()\n",
    "accident2012 = accident2012.reset_index()\n",
    "accident2012.head(3)"
   ]
  },
  {
   "cell_type": "code",
   "execution_count": 680,
   "id": "8a0a9696-2eae-4f6b-b688-c90805bcac7e",
   "metadata": {},
   "outputs": [
    {
     "name": "stdout",
     "output_type": "stream",
     "text": [
      "(120, 8)\n",
      "(120, 7)\n",
      "(120, 7)\n",
      "(120, 7)\n",
      "(120, 7)\n",
      "(155, 7)\n",
      "(156, 7)\n",
      "(156, 7)\n",
      "(156, 7)\n",
      "(156, 7)\n",
      "(144, 7)\n",
      "(144, 7)\n"
     ]
    }
   ],
   "source": [
    "# 데이터 Shape 재확인\n",
    "for year in range(2012,2024):\n",
    "    df_name = f\"accident{year}\"\n",
    "    print(globals()[df_name].shape)"
   ]
  },
  {
   "cell_type": "markdown",
   "id": "8fe00657-cca4-4e8a-b5c9-271774f80a25",
   "metadata": {},
   "source": [
    "## __4. 각 데이터를 구분하기 위해 데이터에 연도 컬럼을 추가__"
   ]
  },
  {
   "cell_type": "markdown",
   "id": "7378c1d0-fafe-4630-8151-4a77e9d6f374",
   "metadata": {},
   "source": [
    "- 각 데이터는 연단위로 수집한 데이터이기에 __연도 컬럼이 존재하지 않는다.__\n",
    "- 따라서 이를 그냥 병합할 경우 __연도별 데이터를 구분할 수 없기__ 에 연도와 관련된 컬럼을 추가한다."
   ]
  },
  {
   "cell_type": "code",
   "execution_count": 683,
   "id": "750ba106-c2a7-43e2-8e43-f19f97e5a9a7",
   "metadata": {},
   "outputs": [],
   "source": [
    "# 반복문을 통해 각 데이터프레임에 '연도' 컬럼 추가\n",
    "for year in range(2012,2024):\n",
    "    df_name = f\"accident{year}\"\n",
    "    globals()[df_name]['연도'] = year"
   ]
  },
  {
   "cell_type": "markdown",
   "id": "ff3180a8-c7d3-4a9b-baad-7e8f2f56df62",
   "metadata": {},
   "source": [
    "## __5. 각 데이터를 하나의 데이터프레임으로 병합__"
   ]
  },
  {
   "cell_type": "markdown",
   "id": "572f749d-df39-40ab-a576-442f24ee2ad4",
   "metadata": {},
   "source": [
    "- 각 데이터를 하나의 데이터프레임으로 만들고 해당 데이터프레임을 __accident__ 변수에 할당한다.\n",
    "- 'index'라는 불필요한 컬럼이 추가되어 해당 컬럼을 삭제한다.\n",
    "- 1667rows x 8columns로 데이터의 갯수에 있어서는 누락되지 않고 잘 병합된 것으로 추정된다."
   ]
  },
  {
   "cell_type": "code",
   "execution_count": 686,
   "id": "b6dabfd9-31ce-4e7c-96ba-e998aabe330c",
   "metadata": {},
   "outputs": [
    {
     "data": {
      "text/html": [
       "<div>\n",
       "<style scoped>\n",
       "    .dataframe tbody tr th:only-of-type {\n",
       "        vertical-align: middle;\n",
       "    }\n",
       "\n",
       "    .dataframe tbody tr th {\n",
       "        vertical-align: top;\n",
       "    }\n",
       "\n",
       "    .dataframe thead th {\n",
       "        text-align: right;\n",
       "    }\n",
       "</style>\n",
       "<table border=\"1\" class=\"dataframe\">\n",
       "  <thead>\n",
       "    <tr style=\"text-align: right;\">\n",
       "      <th></th>\n",
       "      <th>가해자차종</th>\n",
       "      <th>발생월</th>\n",
       "      <th>사고건수</th>\n",
       "      <th>사망자수</th>\n",
       "      <th>중상자수</th>\n",
       "      <th>경상자수</th>\n",
       "      <th>부상신고자수</th>\n",
       "      <th>연도</th>\n",
       "    </tr>\n",
       "  </thead>\n",
       "  <tbody>\n",
       "    <tr>\n",
       "      <th>0</th>\n",
       "      <td>건설기계</td>\n",
       "      <td>1</td>\n",
       "      <td>97</td>\n",
       "      <td>8</td>\n",
       "      <td>59</td>\n",
       "      <td>113</td>\n",
       "      <td>1</td>\n",
       "      <td>2012</td>\n",
       "    </tr>\n",
       "    <tr>\n",
       "      <th>1</th>\n",
       "      <td>건설기계</td>\n",
       "      <td>2</td>\n",
       "      <td>103</td>\n",
       "      <td>8</td>\n",
       "      <td>65</td>\n",
       "      <td>84</td>\n",
       "      <td>2</td>\n",
       "      <td>2012</td>\n",
       "    </tr>\n",
       "    <tr>\n",
       "      <th>2</th>\n",
       "      <td>건설기계</td>\n",
       "      <td>3</td>\n",
       "      <td>125</td>\n",
       "      <td>5</td>\n",
       "      <td>76</td>\n",
       "      <td>129</td>\n",
       "      <td>4</td>\n",
       "      <td>2012</td>\n",
       "    </tr>\n",
       "    <tr>\n",
       "      <th>3</th>\n",
       "      <td>건설기계</td>\n",
       "      <td>4</td>\n",
       "      <td>125</td>\n",
       "      <td>5</td>\n",
       "      <td>74</td>\n",
       "      <td>165</td>\n",
       "      <td>6</td>\n",
       "      <td>2012</td>\n",
       "    </tr>\n",
       "    <tr>\n",
       "      <th>4</th>\n",
       "      <td>건설기계</td>\n",
       "      <td>5</td>\n",
       "      <td>143</td>\n",
       "      <td>11</td>\n",
       "      <td>97</td>\n",
       "      <td>174</td>\n",
       "      <td>7</td>\n",
       "      <td>2012</td>\n",
       "    </tr>\n",
       "    <tr>\n",
       "      <th>...</th>\n",
       "      <td>...</td>\n",
       "      <td>...</td>\n",
       "      <td>...</td>\n",
       "      <td>...</td>\n",
       "      <td>...</td>\n",
       "      <td>...</td>\n",
       "      <td>...</td>\n",
       "      <td>...</td>\n",
       "    </tr>\n",
       "    <tr>\n",
       "      <th>139</th>\n",
       "      <td>자전거</td>\n",
       "      <td>12</td>\n",
       "      <td>217</td>\n",
       "      <td>2</td>\n",
       "      <td>60</td>\n",
       "      <td>112</td>\n",
       "      <td>54</td>\n",
       "      <td>2023</td>\n",
       "    </tr>\n",
       "    <tr>\n",
       "      <th>140</th>\n",
       "      <td>개인형이동장치(PM)</td>\n",
       "      <td>12</td>\n",
       "      <td>129</td>\n",
       "      <td>0</td>\n",
       "      <td>40</td>\n",
       "      <td>76</td>\n",
       "      <td>26</td>\n",
       "      <td>2023</td>\n",
       "    </tr>\n",
       "    <tr>\n",
       "      <th>141</th>\n",
       "      <td>건설기계</td>\n",
       "      <td>12</td>\n",
       "      <td>173</td>\n",
       "      <td>5</td>\n",
       "      <td>43</td>\n",
       "      <td>218</td>\n",
       "      <td>12</td>\n",
       "      <td>2023</td>\n",
       "    </tr>\n",
       "    <tr>\n",
       "      <th>142</th>\n",
       "      <td>농기계</td>\n",
       "      <td>12</td>\n",
       "      <td>10</td>\n",
       "      <td>3</td>\n",
       "      <td>3</td>\n",
       "      <td>4</td>\n",
       "      <td>0</td>\n",
       "      <td>2023</td>\n",
       "    </tr>\n",
       "    <tr>\n",
       "      <th>143</th>\n",
       "      <td>기타/불명</td>\n",
       "      <td>12</td>\n",
       "      <td>242</td>\n",
       "      <td>0</td>\n",
       "      <td>29</td>\n",
       "      <td>166</td>\n",
       "      <td>67</td>\n",
       "      <td>2023</td>\n",
       "    </tr>\n",
       "  </tbody>\n",
       "</table>\n",
       "<p>1667 rows × 8 columns</p>\n",
       "</div>"
      ],
      "text/plain": [
       "           가해자차종  발생월  사고건수  사망자수  중상자수  경상자수  부상신고자수    연도\n",
       "0           건설기계    1    97     8    59   113       1  2012\n",
       "1           건설기계    2   103     8    65    84       2  2012\n",
       "2           건설기계    3   125     5    76   129       4  2012\n",
       "3           건설기계    4   125     5    74   165       6  2012\n",
       "4           건설기계    5   143    11    97   174       7  2012\n",
       "..           ...  ...   ...   ...   ...   ...     ...   ...\n",
       "139          자전거   12   217     2    60   112      54  2023\n",
       "140  개인형이동장치(PM)   12   129     0    40    76      26  2023\n",
       "141         건설기계   12   173     5    43   218      12  2023\n",
       "142          농기계   12    10     3     3     4       0  2023\n",
       "143        기타/불명   12   242     0    29   166      67  2023\n",
       "\n",
       "[1667 rows x 8 columns]"
      ]
     },
     "execution_count": 686,
     "metadata": {},
     "output_type": "execute_result"
    }
   ],
   "source": [
    "# accident2012 ~ accident2023까지의 데이터프레임 병합\n",
    "accident = pd.concat([accident2012, accident2013, accident2014, accident2015, accident2016, accident2017,\n",
    "                      accident2018, accident2019, accident2020, accident2021, accident2022, accident2023])\n",
    "\n",
    "# index가 추가되어 해당 Column 삭제\n",
    "accident.drop('index', axis=1, inplace=True)\n",
    "accident"
   ]
  },
  {
   "cell_type": "markdown",
   "id": "46d91469-3e95-4614-914d-74d12980a6e6",
   "metadata": {},
   "source": [
    "------"
   ]
  },
  {
   "cell_type": "markdown",
   "id": "028c1861-ed9d-46e1-89e9-b184c53703cd",
   "metadata": {},
   "source": [
    "# __Chapter 05. 데이터 확인(통합후)__"
   ]
  },
  {
   "cell_type": "code",
   "execution_count": 689,
   "id": "db1d4dc1-87cf-4f1c-8e1d-63e290b04d3f",
   "metadata": {},
   "outputs": [
    {
     "data": {
      "text/plain": [
       "(1667, 8)"
      ]
     },
     "execution_count": 689,
     "metadata": {},
     "output_type": "execute_result"
    }
   ],
   "source": [
    "# 형태 확인\n",
    "accident.shape"
   ]
  },
  {
   "cell_type": "code",
   "execution_count": 690,
   "id": "a296f6c8-39e1-458c-ac89-bc1f07abed18",
   "metadata": {},
   "outputs": [
    {
     "data": {
      "text/plain": [
       "Index(['가해자차종', '발생월', '사고건수', '사망자수', '중상자수', '경상자수', '부상신고자수', '연도'], dtype='object')"
      ]
     },
     "execution_count": 690,
     "metadata": {},
     "output_type": "execute_result"
    }
   ],
   "source": [
    "# Column 값 확인\n",
    "accident.columns"
   ]
  },
  {
   "cell_type": "code",
   "execution_count": 691,
   "id": "6a0f68f0-d893-4701-940e-81ec0dc763fa",
   "metadata": {},
   "outputs": [
    {
     "name": "stdout",
     "output_type": "stream",
     "text": [
      "<class 'pandas.core.frame.DataFrame'>\n",
      "Index: 1667 entries, 0 to 143\n",
      "Data columns (total 8 columns):\n",
      " #   Column  Non-Null Count  Dtype \n",
      "---  ------  --------------  ----- \n",
      " 0   가해자차종   1667 non-null   object\n",
      " 1   발생월     1667 non-null   int64 \n",
      " 2   사고건수    1667 non-null   int64 \n",
      " 3   사망자수    1667 non-null   int64 \n",
      " 4   중상자수    1667 non-null   int64 \n",
      " 5   경상자수    1667 non-null   int64 \n",
      " 6   부상신고자수  1667 non-null   int64 \n",
      " 7   연도      1667 non-null   int64 \n",
      "dtypes: int64(7), object(1)\n",
      "memory usage: 117.2+ KB\n"
     ]
    }
   ],
   "source": [
    "# 정보 확인\n",
    "accident.info()"
   ]
  },
  {
   "cell_type": "code",
   "execution_count": 692,
   "id": "ad32b5b3-bc2d-432d-a41c-c7f95cf8f23a",
   "metadata": {},
   "outputs": [
    {
     "data": {
      "text/html": [
       "<div>\n",
       "<style scoped>\n",
       "    .dataframe tbody tr th:only-of-type {\n",
       "        vertical-align: middle;\n",
       "    }\n",
       "\n",
       "    .dataframe tbody tr th {\n",
       "        vertical-align: top;\n",
       "    }\n",
       "\n",
       "    .dataframe thead th {\n",
       "        text-align: right;\n",
       "    }\n",
       "</style>\n",
       "<table border=\"1\" class=\"dataframe\">\n",
       "  <thead>\n",
       "    <tr style=\"text-align: right;\">\n",
       "      <th></th>\n",
       "      <th>발생월</th>\n",
       "      <th>사고건수</th>\n",
       "      <th>사망자수</th>\n",
       "      <th>중상자수</th>\n",
       "      <th>경상자수</th>\n",
       "      <th>부상신고자수</th>\n",
       "      <th>연도</th>\n",
       "    </tr>\n",
       "  </thead>\n",
       "  <tbody>\n",
       "    <tr>\n",
       "      <th>count</th>\n",
       "      <td>1667.000000</td>\n",
       "      <td>1667.000000</td>\n",
       "      <td>1667.000000</td>\n",
       "      <td>1667.000000</td>\n",
       "      <td>1667.000000</td>\n",
       "      <td>1667.000000</td>\n",
       "      <td>1667.000000</td>\n",
       "    </tr>\n",
       "    <tr>\n",
       "      <th>mean</th>\n",
       "      <td>6.503299</td>\n",
       "      <td>1551.597481</td>\n",
       "      <td>28.048590</td>\n",
       "      <td>546.517696</td>\n",
       "      <td>1615.017397</td>\n",
       "      <td>144.328734</td>\n",
       "      <td>2017.806239</td>\n",
       "    </tr>\n",
       "    <tr>\n",
       "      <th>std</th>\n",
       "      <td>3.451493</td>\n",
       "      <td>3270.819082</td>\n",
       "      <td>47.448228</td>\n",
       "      <td>1151.075822</td>\n",
       "      <td>3662.160381</td>\n",
       "      <td>253.358502</td>\n",
       "      <td>3.375323</td>\n",
       "    </tr>\n",
       "    <tr>\n",
       "      <th>min</th>\n",
       "      <td>1.000000</td>\n",
       "      <td>2.000000</td>\n",
       "      <td>0.000000</td>\n",
       "      <td>0.000000</td>\n",
       "      <td>1.000000</td>\n",
       "      <td>0.000000</td>\n",
       "      <td>2012.000000</td>\n",
       "    </tr>\n",
       "    <tr>\n",
       "      <th>25%</th>\n",
       "      <td>4.000000</td>\n",
       "      <td>92.000000</td>\n",
       "      <td>2.000000</td>\n",
       "      <td>31.000000</td>\n",
       "      <td>87.500000</td>\n",
       "      <td>7.000000</td>\n",
       "      <td>2015.000000</td>\n",
       "    </tr>\n",
       "    <tr>\n",
       "      <th>50%</th>\n",
       "      <td>7.000000</td>\n",
       "      <td>287.000000</td>\n",
       "      <td>7.000000</td>\n",
       "      <td>82.000000</td>\n",
       "      <td>217.000000</td>\n",
       "      <td>59.000000</td>\n",
       "      <td>2018.000000</td>\n",
       "    </tr>\n",
       "    <tr>\n",
       "      <th>75%</th>\n",
       "      <td>9.500000</td>\n",
       "      <td>1208.000000</td>\n",
       "      <td>30.000000</td>\n",
       "      <td>451.500000</td>\n",
       "      <td>1122.000000</td>\n",
       "      <td>148.000000</td>\n",
       "      <td>2021.000000</td>\n",
       "    </tr>\n",
       "    <tr>\n",
       "      <th>max</th>\n",
       "      <td>12.000000</td>\n",
       "      <td>14305.000000</td>\n",
       "      <td>257.000000</td>\n",
       "      <td>5905.000000</td>\n",
       "      <td>16028.000000</td>\n",
       "      <td>1283.000000</td>\n",
       "      <td>2023.000000</td>\n",
       "    </tr>\n",
       "  </tbody>\n",
       "</table>\n",
       "</div>"
      ],
      "text/plain": [
       "               발생월          사고건수         사망자수         중상자수          경상자수  \\\n",
       "count  1667.000000   1667.000000  1667.000000  1667.000000   1667.000000   \n",
       "mean      6.503299   1551.597481    28.048590   546.517696   1615.017397   \n",
       "std       3.451493   3270.819082    47.448228  1151.075822   3662.160381   \n",
       "min       1.000000      2.000000     0.000000     0.000000      1.000000   \n",
       "25%       4.000000     92.000000     2.000000    31.000000     87.500000   \n",
       "50%       7.000000    287.000000     7.000000    82.000000    217.000000   \n",
       "75%       9.500000   1208.000000    30.000000   451.500000   1122.000000   \n",
       "max      12.000000  14305.000000   257.000000  5905.000000  16028.000000   \n",
       "\n",
       "            부상신고자수           연도  \n",
       "count  1667.000000  1667.000000  \n",
       "mean    144.328734  2017.806239  \n",
       "std     253.358502     3.375323  \n",
       "min       0.000000  2012.000000  \n",
       "25%       7.000000  2015.000000  \n",
       "50%      59.000000  2018.000000  \n",
       "75%     148.000000  2021.000000  \n",
       "max    1283.000000  2023.000000  "
      ]
     },
     "execution_count": 692,
     "metadata": {},
     "output_type": "execute_result"
    }
   ],
   "source": [
    "# 통계정보 확인\n",
    "accident.describe()"
   ]
  },
  {
   "cell_type": "code",
   "execution_count": 693,
   "id": "c802a276-b9ad-46ae-88d3-805eb63804e8",
   "metadata": {},
   "outputs": [
    {
     "data": {
      "text/plain": [
       "가해자차종     0\n",
       "발생월       0\n",
       "사고건수      0\n",
       "사망자수      0\n",
       "중상자수      0\n",
       "경상자수      0\n",
       "부상신고자수    0\n",
       "연도        0\n",
       "dtype: int64"
      ]
     },
     "execution_count": 693,
     "metadata": {},
     "output_type": "execute_result"
    }
   ],
   "source": [
    "# 결측치 확인\n",
    "accident.isnull().sum()"
   ]
  },
  {
   "cell_type": "code",
   "execution_count": 694,
   "id": "5a066584-1ad8-4717-a4ab-e907e61c8f2e",
   "metadata": {},
   "outputs": [
    {
     "name": "stdout",
     "output_type": "stream",
     "text": [
      "['건설기계' '농기계' '불명' '승용차' '승합차' '원동기장치자전거' '이륜차' '자전거' '특수차' '화물차'\n",
      " '사륜오토바이(ATV)' '개인형이동수단(PM)' '기타' '개인형이동장치(PM)' '기타/불명']\n",
      "가해자차종\n",
      "건설기계           144\n",
      "농기계            144\n",
      "승용차            144\n",
      "승합차            144\n",
      "원동기장치자전거       144\n",
      "이륜차            144\n",
      "자전거            144\n",
      "특수차            144\n",
      "화물차            144\n",
      "불명             120\n",
      "사륜오토바이(ATV)     84\n",
      "기타              60\n",
      "개인형이동수단(PM)     59\n",
      "개인형이동장치(PM)     24\n",
      "기타/불명           24\n",
      "Name: count, dtype: int64\n"
     ]
    }
   ],
   "source": [
    "# 데이터 값 확인\n",
    "print(accident['가해자차종'].unique())\n",
    "print(accident['가해자차종'].value_counts())"
   ]
  },
  {
   "cell_type": "markdown",
   "id": "774aafb6-6191-482e-a6a8-496f102d418e",
   "metadata": {},
   "source": [
    "---------"
   ]
  },
  {
   "cell_type": "markdown",
   "id": "bb8c7305-9df7-42ea-a594-19221a9d6359",
   "metadata": {},
   "source": [
    "# __Chapter 6. 데이터 전처리(통합 후)__"
   ]
  },
  {
   "cell_type": "markdown",
   "id": "37acedf2-3cf6-4f36-bbd9-af7c4b30cf4a",
   "metadata": {},
   "source": [
    "## __1. Column 통일하기__"
   ]
  },
  {
   "cell_type": "markdown",
   "id": "24a5925d-bf12-4046-9e3a-8f8dc27c04bd",
   "metadata": {},
   "source": [
    "- 동일한 내용을 표현하지만 Column명이 다른 것들을 통일하기"
   ]
  },
  {
   "cell_type": "code",
   "execution_count": 699,
   "id": "1428c9fa-989b-4cc6-a30c-bd480d96d252",
   "metadata": {
    "scrolled": true
   },
   "outputs": [],
   "source": [
    "# 불명, 기타, 기타/불명 모두 기타로 통일하기\n",
    "accident['가해자차종'] = accident['가해자차종'].replace({'불명':'기타', '기타/불명':'기타'})\n",
    "\n",
    "# 개인형이동장치(PM)을 개인형이동수단(PM)로 통일하기\n",
    "accident['가해자차종'] = accident['가해자차종'].replace({'개인형이동장치(PM)':'개인형이동수단(PM)'})\n",
    "\n",
    "# 인덱스 재설정하기\n",
    "accident = accident.reset_index(drop=True)"
   ]
  },
  {
   "cell_type": "markdown",
   "id": "190755ca-98ad-4170-b939-07086a6549b5",
   "metadata": {},
   "source": [
    "## __2. 연/월 Column 생성__"
   ]
  },
  {
   "cell_type": "code",
   "execution_count": 701,
   "id": "c1075fc5-1cd5-4ced-a87d-559b6029393b",
   "metadata": {},
   "outputs": [],
   "source": [
    "# 연 + 월로 연월 컬럼 생성하기\n",
    "accident['연월'] = pd.to_datetime(accident['연도'].astype(str) + '-' + accident['발생월'].astype(str), format='%Y-%m')"
   ]
  },
  {
   "cell_type": "markdown",
   "id": "2c5f8b52-8462-4f19-bbc2-882cc51af41c",
   "metadata": {},
   "source": [
    "## __3. 계절 변수 추가하기__"
   ]
  },
  {
   "cell_type": "code",
   "execution_count": 703,
   "id": "279bfa73-b3d5-460a-865a-26c5ef10af57",
   "metadata": {},
   "outputs": [],
   "source": [
    "# 계절을 판별하는 함수 정의\n",
    "def get_season(month):\n",
    "    if month in [3, 4, 5]:\n",
    "        return '봄'\n",
    "    elif month in [6, 7, 8]:\n",
    "        return '여름'\n",
    "    elif month in [9, 10, 11]:\n",
    "        return '가을'\n",
    "    else:\n",
    "        return '겨울'\n",
    "\n",
    "# '월' 열을 기반으로 계절 변수 추가\n",
    "accident['계절'] = accident['발생월'].apply(get_season)"
   ]
  },
  {
   "cell_type": "markdown",
   "id": "bc4f580d-e3b0-401c-a2fc-afbb5a1424bc",
   "metadata": {},
   "source": [
    "----------"
   ]
  },
  {
   "cell_type": "markdown",
   "id": "825f5130-e82b-4ef6-b2e2-44fe36fee2fb",
   "metadata": {},
   "source": [
    "# __Chapter 7. 전처리된 데이터 저장하기__"
   ]
  },
  {
   "cell_type": "code",
   "execution_count": null,
   "id": "1f07a089-4fc2-47e1-a4a7-7a6cd30291d4",
   "metadata": {},
   "outputs": [],
   "source": [
    "accident.to_csv('차종별 교통사고 유형 건수.csv')"
   ]
  }
 ],
 "metadata": {
  "kernelspec": {
   "display_name": "Python 3 (ipykernel)",
   "language": "python",
   "name": "python3"
  },
  "language_info": {
   "codemirror_mode": {
    "name": "ipython",
    "version": 3
   },
   "file_extension": ".py",
   "mimetype": "text/x-python",
   "name": "python",
   "nbconvert_exporter": "python",
   "pygments_lexer": "ipython3",
   "version": "3.12.4"
  }
 },
 "nbformat": 4,
 "nbformat_minor": 5
}
